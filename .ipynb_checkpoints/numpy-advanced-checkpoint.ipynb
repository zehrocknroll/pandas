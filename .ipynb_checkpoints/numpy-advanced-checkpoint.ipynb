{
 "cells": [
  {
   "cell_type": "code",
   "execution_count": 1,
   "id": "e8a7f73a",
   "metadata": {},
   "outputs": [],
   "source": [
    "import numpy as np"
   ]
  },
  {
   "cell_type": "code",
   "execution_count": 2,
   "id": "2e34da31",
   "metadata": {},
   "outputs": [],
   "source": [
    "#ndarray"
   ]
  },
  {
   "cell_type": "code",
   "execution_count": 4,
   "id": "0823cd73",
   "metadata": {},
   "outputs": [
    {
     "data": {
      "text/plain": [
       "array([1, 2, 3])"
      ]
     },
     "execution_count": 4,
     "metadata": {},
     "output_type": "execute_result"
    }
   ],
   "source": [
    "np.array([1,2,3])"
   ]
  },
  {
   "cell_type": "code",
   "execution_count": 5,
   "id": "da1f3314",
   "metadata": {},
   "outputs": [
    {
     "data": {
      "text/plain": [
       "numpy.ndarray"
      ]
     },
     "execution_count": 5,
     "metadata": {},
     "output_type": "execute_result"
    }
   ],
   "source": [
    "type(np.array([1,2,3]))"
   ]
  },
  {
   "cell_type": "code",
   "execution_count": 6,
   "id": "ddcfb88d",
   "metadata": {},
   "outputs": [
    {
     "data": {
      "text/plain": [
       "array([0, 0, 0, 0, 0, 0, 0, 0, 0, 0, 0, 0, 0, 0, 0, 0, 0, 0, 0])"
      ]
     },
     "execution_count": 6,
     "metadata": {},
     "output_type": "execute_result"
    }
   ],
   "source": [
    "np.zeros(19,dtype=int)"
   ]
  },
  {
   "cell_type": "code",
   "execution_count": 7,
   "id": "0d3fcd13",
   "metadata": {},
   "outputs": [
    {
     "data": {
      "text/plain": [
       "array([7, 5, 7, 9, 1, 3, 8, 3, 7, 5])"
      ]
     },
     "execution_count": 7,
     "metadata": {},
     "output_type": "execute_result"
    }
   ],
   "source": [
    "np.random.randint(0,10, size=10)"
   ]
  },
  {
   "cell_type": "code",
   "execution_count": 8,
   "id": "e36f7a40",
   "metadata": {},
   "outputs": [
    {
     "data": {
      "text/plain": [
       "array([[ 7.94831915,  4.67171231, 13.68704352,  7.29020617],\n",
       "       [13.25530545, 21.88470822,  6.52008587, 13.09681474],\n",
       "       [17.86699589,  9.89813103,  9.77776821, 15.3012104 ]])"
      ]
     },
     "execution_count": 8,
     "metadata": {},
     "output_type": "execute_result"
    }
   ],
   "source": [
    "np.random.normal(10,4,(3,4))"
   ]
  },
  {
   "cell_type": "markdown",
   "id": "0082c653",
   "metadata": {},
   "source": [
    "### ndim, shape,size,dtype"
   ]
  },
  {
   "cell_type": "code",
   "execution_count": 9,
   "id": "448e5783",
   "metadata": {},
   "outputs": [],
   "source": [
    "a = np.random.randint(10,size=5)"
   ]
  },
  {
   "cell_type": "code",
   "execution_count": 10,
   "id": "02048f8c",
   "metadata": {},
   "outputs": [
    {
     "data": {
      "text/plain": [
       "array([8, 4, 5, 9, 3])"
      ]
     },
     "execution_count": 10,
     "metadata": {},
     "output_type": "execute_result"
    }
   ],
   "source": [
    "a"
   ]
  },
  {
   "cell_type": "code",
   "execution_count": 12,
   "id": "e704f3f9",
   "metadata": {},
   "outputs": [
    {
     "data": {
      "text/plain": [
       "1"
      ]
     },
     "execution_count": 12,
     "metadata": {},
     "output_type": "execute_result"
    }
   ],
   "source": [
    "a.ndim #size number"
   ]
  },
  {
   "cell_type": "code",
   "execution_count": 14,
   "id": "60f08193",
   "metadata": {},
   "outputs": [
    {
     "data": {
      "text/plain": [
       "(5,)"
      ]
     },
     "execution_count": 14,
     "metadata": {},
     "output_type": "execute_result"
    }
   ],
   "source": [
    "a.shape #size information"
   ]
  },
  {
   "cell_type": "code",
   "execution_count": 15,
   "id": "bc3a915a",
   "metadata": {},
   "outputs": [
    {
     "data": {
      "text/plain": [
       "5"
      ]
     },
     "execution_count": 15,
     "metadata": {},
     "output_type": "execute_result"
    }
   ],
   "source": [
    "a.size #total number of elements\n"
   ]
  },
  {
   "cell_type": "code",
   "execution_count": 16,
   "id": "fb5fa95c",
   "metadata": {},
   "outputs": [
    {
     "data": {
      "text/plain": [
       "dtype('int32')"
      ]
     },
     "execution_count": 16,
     "metadata": {},
     "output_type": "execute_result"
    }
   ],
   "source": [
    "a.dtype #type info"
   ]
  },
  {
   "cell_type": "markdown",
   "id": "f598de63",
   "metadata": {},
   "source": [
    "### reshaping"
   ]
  },
  {
   "cell_type": "code",
   "execution_count": 24,
   "id": "f3b9d527",
   "metadata": {},
   "outputs": [
    {
     "data": {
      "text/plain": [
       "array([9, 6, 7, 5, 9, 7, 1, 3, 9, 4, 1, 3])"
      ]
     },
     "execution_count": 24,
     "metadata": {},
     "output_type": "execute_result"
    }
   ],
   "source": [
    "np.random.randint(1,10,12)"
   ]
  },
  {
   "cell_type": "code",
   "execution_count": 25,
   "id": "0f9f9051",
   "metadata": {},
   "outputs": [
    {
     "data": {
      "text/plain": [
       "array([[2, 3, 7],\n",
       "       [1, 4, 4],\n",
       "       [4, 8, 7],\n",
       "       [4, 4, 2]])"
      ]
     },
     "execution_count": 25,
     "metadata": {},
     "output_type": "execute_result"
    }
   ],
   "source": [
    "np.random.randint(1,10,12).reshape(4,3)"
   ]
  },
  {
   "cell_type": "code",
   "execution_count": 26,
   "id": "2f1701b0",
   "metadata": {},
   "outputs": [],
   "source": [
    "rs = np.random.randint(1,10,12).reshape(4,3)"
   ]
  },
  {
   "cell_type": "code",
   "execution_count": 27,
   "id": "c7ac78c8",
   "metadata": {},
   "outputs": [
    {
     "data": {
      "text/plain": [
       "array([[2, 3, 7],\n",
       "       [2, 7, 6],\n",
       "       [5, 2, 5],\n",
       "       [8, 6, 2]])"
      ]
     },
     "execution_count": 27,
     "metadata": {},
     "output_type": "execute_result"
    }
   ],
   "source": [
    "rs.reshape(4,3)"
   ]
  },
  {
   "cell_type": "markdown",
   "id": "732cc67c",
   "metadata": {},
   "source": [
    "### index selection"
   ]
  },
  {
   "cell_type": "code",
   "execution_count": 39,
   "id": "43eb92e1",
   "metadata": {},
   "outputs": [],
   "source": [
    "a = np.random.randint(10,size=10)"
   ]
  },
  {
   "cell_type": "code",
   "execution_count": 40,
   "id": "54fd1b37",
   "metadata": {},
   "outputs": [
    {
     "data": {
      "text/plain": [
       "array([2, 7, 2, 9, 8, 2, 6, 6, 5, 7])"
      ]
     },
     "execution_count": 40,
     "metadata": {},
     "output_type": "execute_result"
    }
   ],
   "source": [
    "a"
   ]
  },
  {
   "cell_type": "code",
   "execution_count": 41,
   "id": "e4775f03",
   "metadata": {},
   "outputs": [
    {
     "data": {
      "text/plain": [
       "array([2, 7, 2, 9, 8])"
      ]
     },
     "execution_count": 41,
     "metadata": {},
     "output_type": "execute_result"
    }
   ],
   "source": [
    "a[0:5] #slicing"
   ]
  },
  {
   "cell_type": "code",
   "execution_count": 42,
   "id": "eb1ad34c",
   "metadata": {},
   "outputs": [],
   "source": [
    "a[0] = 5"
   ]
  },
  {
   "cell_type": "code",
   "execution_count": 46,
   "id": "b1ac6f87",
   "metadata": {},
   "outputs": [
    {
     "data": {
      "text/plain": [
       "array([5, 7, 2, 9, 8, 2, 6, 6, 5, 7])"
      ]
     },
     "execution_count": 46,
     "metadata": {},
     "output_type": "execute_result"
    }
   ],
   "source": [
    "a"
   ]
  },
  {
   "cell_type": "code",
   "execution_count": 47,
   "id": "9312d672",
   "metadata": {},
   "outputs": [],
   "source": [
    "ar = np.random.randint(10,size=(3,5))"
   ]
  },
  {
   "cell_type": "code",
   "execution_count": 48,
   "id": "c0fabf7c",
   "metadata": {},
   "outputs": [
    {
     "data": {
      "text/plain": [
       "array([[8, 7, 4, 7, 4],\n",
       "       [6, 5, 8, 7, 0],\n",
       "       [8, 9, 4, 2, 7]])"
      ]
     },
     "execution_count": 48,
     "metadata": {},
     "output_type": "execute_result"
    }
   ],
   "source": [
    "ar"
   ]
  },
  {
   "cell_type": "code",
   "execution_count": 49,
   "id": "defcf58d",
   "metadata": {},
   "outputs": [
    {
     "data": {
      "text/plain": [
       "8"
      ]
     },
     "execution_count": 49,
     "metadata": {},
     "output_type": "execute_result"
    }
   ],
   "source": [
    " ar[0,0] #Lines before the comma represent the columns after the comma"
   ]
  },
  {
   "cell_type": "code",
   "execution_count": 50,
   "id": "b0533e26",
   "metadata": {},
   "outputs": [
    {
     "data": {
      "text/plain": [
       "2"
      ]
     },
     "execution_count": 50,
     "metadata": {},
     "output_type": "execute_result"
    }
   ],
   "source": [
    "ar[2,3]"
   ]
  },
  {
   "cell_type": "code",
   "execution_count": 51,
   "id": "37f28664",
   "metadata": {},
   "outputs": [],
   "source": [
    "ar[1,3] = 9"
   ]
  },
  {
   "cell_type": "code",
   "execution_count": 52,
   "id": "81758fec",
   "metadata": {},
   "outputs": [
    {
     "data": {
      "text/plain": [
       "array([[8, 7, 4, 7, 4],\n",
       "       [6, 5, 8, 9, 0],\n",
       "       [8, 9, 4, 2, 7]])"
      ]
     },
     "execution_count": 52,
     "metadata": {},
     "output_type": "execute_result"
    }
   ],
   "source": [
    "ar"
   ]
  },
  {
   "cell_type": "code",
   "execution_count": 53,
   "id": "5ded96d7",
   "metadata": {},
   "outputs": [],
   "source": [
    "ar[1,2] = 4.5"
   ]
  },
  {
   "cell_type": "code",
   "execution_count": 55,
   "id": "033faf49",
   "metadata": {},
   "outputs": [
    {
     "data": {
      "text/plain": [
       "array([[8, 7, 4, 7, 4],\n",
       "       [6, 5, 4, 9, 0],\n",
       "       [8, 9, 4, 2, 7]])"
      ]
     },
     "execution_count": 55,
     "metadata": {},
     "output_type": "execute_result"
    }
   ],
   "source": [
    "ar #prints 4, not 4.5 because it contains only one data type"
   ]
  },
  {
   "cell_type": "code",
   "execution_count": 59,
   "id": "c0c41358",
   "metadata": {},
   "outputs": [
    {
     "data": {
      "text/plain": [
       "array([8, 6, 8])"
      ]
     },
     "execution_count": 59,
     "metadata": {},
     "output_type": "execute_result"
    }
   ],
   "source": [
    "ar[:,0] #select all rows, select 0th column"
   ]
  },
  {
   "cell_type": "code",
   "execution_count": 60,
   "id": "72823a89",
   "metadata": {},
   "outputs": [
    {
     "data": {
      "text/plain": [
       "array([6, 5, 4, 9, 0])"
      ]
     },
     "execution_count": 60,
     "metadata": {},
     "output_type": "execute_result"
    }
   ],
   "source": [
    "ar[1,:] #1st row and all columns"
   ]
  },
  {
   "cell_type": "code",
   "execution_count": 63,
   "id": "7a416fcf",
   "metadata": {},
   "outputs": [
    {
     "data": {
      "text/plain": [
       "array([[5, 4]])"
      ]
     },
     "execution_count": 63,
     "metadata": {},
     "output_type": "execute_result"
    }
   ],
   "source": [
    "ar[1:2,1:3]"
   ]
  },
  {
   "cell_type": "markdown",
   "id": "2a440900",
   "metadata": {},
   "source": [
    "### fancy index"
   ]
  },
  {
   "cell_type": "code",
   "execution_count": 64,
   "id": "787abf5b",
   "metadata": {},
   "outputs": [],
   "source": [
    "z = np.arange(0,30,5)"
   ]
  },
  {
   "cell_type": "code",
   "execution_count": 65,
   "id": "adbc7883",
   "metadata": {},
   "outputs": [
    {
     "data": {
      "text/plain": [
       "array([ 0,  5, 10, 15, 20, 25])"
      ]
     },
     "execution_count": 65,
     "metadata": {},
     "output_type": "execute_result"
    }
   ],
   "source": [
    "z"
   ]
  },
  {
   "cell_type": "code",
   "execution_count": 66,
   "id": "b07342d5",
   "metadata": {},
   "outputs": [
    {
     "data": {
      "text/plain": [
       "5"
      ]
     },
     "execution_count": 66,
     "metadata": {},
     "output_type": "execute_result"
    }
   ],
   "source": [
    "z[1]"
   ]
  },
  {
   "cell_type": "code",
   "execution_count": 67,
   "id": "6737c9e9",
   "metadata": {},
   "outputs": [
    {
     "data": {
      "text/plain": [
       "20"
      ]
     },
     "execution_count": 67,
     "metadata": {},
     "output_type": "execute_result"
    }
   ],
   "source": [
    "z[4]"
   ]
  },
  {
   "cell_type": "code",
   "execution_count": 68,
   "id": "3d45ecfe",
   "metadata": {},
   "outputs": [
    {
     "data": {
      "text/plain": [
       "array([ 5, 10, 15])"
      ]
     },
     "execution_count": 68,
     "metadata": {},
     "output_type": "execute_result"
    }
   ],
   "source": [
    "num = [1,2,3]\n",
    "z[num]"
   ]
  },
  {
   "cell_type": "markdown",
   "id": "387f4e7b",
   "metadata": {},
   "source": [
    "### conditions on numpy"
   ]
  },
  {
   "cell_type": "code",
   "execution_count": 69,
   "id": "398faf1d",
   "metadata": {},
   "outputs": [],
   "source": [
    "h = np.array([1,2,3,4,5])"
   ]
  },
  {
   "cell_type": "code",
   "execution_count": 71,
   "id": "c254bfef",
   "metadata": {},
   "outputs": [],
   "source": [
    "#with classic loop\n",
    "az = []\n",
    "for i in h:\n",
    "    if i <3:\n",
    "        az.append(i)"
   ]
  },
  {
   "cell_type": "code",
   "execution_count": 73,
   "id": "c3ace4ea",
   "metadata": {},
   "outputs": [
    {
     "data": {
      "text/plain": [
       "[1, 2]"
      ]
     },
     "execution_count": 73,
     "metadata": {},
     "output_type": "execute_result"
    }
   ],
   "source": [
    "az"
   ]
  },
  {
   "cell_type": "code",
   "execution_count": 76,
   "id": "f46ec0e2",
   "metadata": {},
   "outputs": [
    {
     "data": {
      "text/plain": [
       "array([ True,  True, False, False, False])"
      ]
     },
     "execution_count": 76,
     "metadata": {},
     "output_type": "execute_result"
    }
   ],
   "source": [
    "#with numpy\n",
    "h < 3"
   ]
  },
  {
   "cell_type": "code",
   "execution_count": 77,
   "id": "849b9603",
   "metadata": {},
   "outputs": [
    {
     "data": {
      "text/plain": [
       "array([1, 2])"
      ]
     },
     "execution_count": 77,
     "metadata": {},
     "output_type": "execute_result"
    }
   ],
   "source": [
    "h[h < 3]"
   ]
  },
  {
   "cell_type": "code",
   "execution_count": 78,
   "id": "17d9899e",
   "metadata": {},
   "outputs": [
    {
     "data": {
      "text/plain": [
       "array([4, 5])"
      ]
     },
     "execution_count": 78,
     "metadata": {},
     "output_type": "execute_result"
    }
   ],
   "source": [
    "h[h > 3]"
   ]
  },
  {
   "cell_type": "code",
   "execution_count": 79,
   "id": "841266f3",
   "metadata": {},
   "outputs": [
    {
     "data": {
      "text/plain": [
       "array([1, 2, 4, 5])"
      ]
     },
     "execution_count": 79,
     "metadata": {},
     "output_type": "execute_result"
    }
   ],
   "source": [
    "h[h != 3]"
   ]
  },
  {
   "cell_type": "code",
   "execution_count": 80,
   "id": "023900b0",
   "metadata": {},
   "outputs": [
    {
     "data": {
      "text/plain": [
       "array([3])"
      ]
     },
     "execution_count": 80,
     "metadata": {},
     "output_type": "execute_result"
    }
   ],
   "source": [
    "h[h == 3]"
   ]
  },
  {
   "cell_type": "code",
   "execution_count": 81,
   "id": "9c29e0d6",
   "metadata": {},
   "outputs": [
    {
     "data": {
      "text/plain": [
       "array([3, 4, 5])"
      ]
     },
     "execution_count": 81,
     "metadata": {},
     "output_type": "execute_result"
    }
   ],
   "source": [
    "h[h >= 3]"
   ]
  },
  {
   "cell_type": "markdown",
   "id": "3e5e9944",
   "metadata": {},
   "source": [
    "### mathematical operations"
   ]
  },
  {
   "cell_type": "code",
   "execution_count": 82,
   "id": "b98308f9",
   "metadata": {},
   "outputs": [],
   "source": [
    "ban = np.array([1,2,3,4,5])"
   ]
  },
  {
   "cell_type": "code",
   "execution_count": 83,
   "id": "9194412c",
   "metadata": {},
   "outputs": [
    {
     "data": {
      "text/plain": [
       "array([0.2, 0.4, 0.6, 0.8, 1. ])"
      ]
     },
     "execution_count": 83,
     "metadata": {},
     "output_type": "execute_result"
    }
   ],
   "source": [
    "ban / 5"
   ]
  },
  {
   "cell_type": "code",
   "execution_count": 84,
   "id": "1ddfa3e2",
   "metadata": {},
   "outputs": [
    {
     "data": {
      "text/plain": [
       "array([0.6, 1.2, 1.8, 2.4, 3. ])"
      ]
     },
     "execution_count": 84,
     "metadata": {},
     "output_type": "execute_result"
    }
   ],
   "source": [
    "ban * 6 / 10"
   ]
  },
  {
   "cell_type": "code",
   "execution_count": 85,
   "id": "1d494c0f",
   "metadata": {},
   "outputs": [
    {
     "data": {
      "text/plain": [
       "array([ 1,  4,  9, 16, 25], dtype=int32)"
      ]
     },
     "execution_count": 85,
     "metadata": {},
     "output_type": "execute_result"
    }
   ],
   "source": [
    "ban ** 2"
   ]
  },
  {
   "cell_type": "code",
   "execution_count": 86,
   "id": "d938b666",
   "metadata": {},
   "outputs": [
    {
     "data": {
      "text/plain": [
       "array([0, 1, 2, 3, 4])"
      ]
     },
     "execution_count": 86,
     "metadata": {},
     "output_type": "execute_result"
    }
   ],
   "source": [
    "ban - 1"
   ]
  },
  {
   "cell_type": "code",
   "execution_count": 88,
   "id": "42554ca7",
   "metadata": {},
   "outputs": [
    {
     "data": {
      "text/plain": [
       "array([0, 1, 2, 3, 4])"
      ]
     },
     "execution_count": 88,
     "metadata": {},
     "output_type": "execute_result"
    }
   ],
   "source": [
    "np.subtract(ban,1) #subtraction"
   ]
  },
  {
   "cell_type": "code",
   "execution_count": 89,
   "id": "29f96f34",
   "metadata": {},
   "outputs": [
    {
     "data": {
      "text/plain": [
       "array([2, 3, 4, 5, 6])"
      ]
     },
     "execution_count": 89,
     "metadata": {},
     "output_type": "execute_result"
    }
   ],
   "source": [
    "np.add(ban,1) #addition"
   ]
  },
  {
   "cell_type": "code",
   "execution_count": 90,
   "id": "c3f7dc3c",
   "metadata": {},
   "outputs": [
    {
     "data": {
      "text/plain": [
       "3.0"
      ]
     },
     "execution_count": 90,
     "metadata": {},
     "output_type": "execute_result"
    }
   ],
   "source": [
    "np.mean(ban)"
   ]
  },
  {
   "cell_type": "code",
   "execution_count": 95,
   "id": "57d42a37",
   "metadata": {},
   "outputs": [
    {
     "data": {
      "text/plain": [
       "15"
      ]
     },
     "execution_count": 95,
     "metadata": {},
     "output_type": "execute_result"
    }
   ],
   "source": [
    "np.sum(ban) #total take\n"
   ]
  },
  {
   "cell_type": "code",
   "execution_count": 96,
   "id": "7b969b19",
   "metadata": {},
   "outputs": [
    {
     "data": {
      "text/plain": [
       "1"
      ]
     },
     "execution_count": 96,
     "metadata": {},
     "output_type": "execute_result"
    }
   ],
   "source": [
    "np.min(ban)"
   ]
  },
  {
   "cell_type": "code",
   "execution_count": 97,
   "id": "dc82f9aa",
   "metadata": {},
   "outputs": [
    {
     "data": {
      "text/plain": [
       "5"
      ]
     },
     "execution_count": 97,
     "metadata": {},
     "output_type": "execute_result"
    }
   ],
   "source": [
    "np.max(ban)"
   ]
  },
  {
   "cell_type": "code",
   "execution_count": 98,
   "id": "db161241",
   "metadata": {},
   "outputs": [
    {
     "data": {
      "text/plain": [
       "2.0"
      ]
     },
     "execution_count": 98,
     "metadata": {},
     "output_type": "execute_result"
    }
   ],
   "source": [
    "np.var(ban) #variance"
   ]
  },
  {
   "cell_type": "markdown",
   "id": "635507f1",
   "metadata": {},
   "source": [
    "### equation solution with two unknowns\n"
   ]
  },
  {
   "cell_type": "code",
   "execution_count": 99,
   "id": "2f1d78e9",
   "metadata": {},
   "outputs": [],
   "source": [
    "# 5*x0 + x1 = 12\n",
    "# x0 + 3*x1 = 10"
   ]
  },
  {
   "cell_type": "code",
   "execution_count": 103,
   "id": "9c8ffb5b",
   "metadata": {},
   "outputs": [],
   "source": [
    "a = np.array([[5,1],[1,3]]) #[5,1] > coefficients of the first variable [1,3] > coefficients of the second variable\n",
    "b = np.array([12,10]) #results in another array\n"
   ]
  },
  {
   "cell_type": "code",
   "execution_count": 105,
   "id": "8e7d4154",
   "metadata": {},
   "outputs": [
    {
     "data": {
      "text/plain": [
       "array([1.85714286, 2.71428571])"
      ]
     },
     "execution_count": 105,
     "metadata": {},
     "output_type": "execute_result"
    }
   ],
   "source": [
    "np.linalg.solve(a,b)"
   ]
  },
  {
   "cell_type": "code",
   "execution_count": null,
   "id": "3c377afc",
   "metadata": {},
   "outputs": [],
   "source": []
  }
 ],
 "metadata": {
  "kernelspec": {
   "display_name": "Python 3 (ipykernel)",
   "language": "python",
   "name": "python3"
  },
  "language_info": {
   "codemirror_mode": {
    "name": "ipython",
    "version": 3
   },
   "file_extension": ".py",
   "mimetype": "text/x-python",
   "name": "python",
   "nbconvert_exporter": "python",
   "pygments_lexer": "ipython3",
   "version": "3.9.12"
  }
 },
 "nbformat": 4,
 "nbformat_minor": 5
}
