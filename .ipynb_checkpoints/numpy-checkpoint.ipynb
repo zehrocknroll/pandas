{
 "cells": [
  {
   "cell_type": "markdown",
   "id": "5a2e20eb",
   "metadata": {},
   "source": [
    "## numpy exercise\n"
   ]
  },
  {
   "cell_type": "code",
   "execution_count": 1,
   "id": "fe3501e1",
   "metadata": {},
   "outputs": [],
   "source": [
    "import numpy as np"
   ]
  },
  {
   "cell_type": "code",
   "execution_count": 5,
   "id": "dfa81d2e",
   "metadata": {},
   "outputs": [],
   "source": [
    " a = np.array([1,2,3])"
   ]
  },
  {
   "cell_type": "code",
   "execution_count": 7,
   "id": "d309784c",
   "metadata": {},
   "outputs": [
    {
     "data": {
      "text/plain": [
       "array([1, 2, 3])"
      ]
     },
     "execution_count": 7,
     "metadata": {},
     "output_type": "execute_result"
    }
   ],
   "source": [
    "a"
   ]
  },
  {
   "cell_type": "code",
   "execution_count": 8,
   "id": "41ce0213",
   "metadata": {},
   "outputs": [],
   "source": [
    " b = np.array([(2.5,6,8), (8,9,10)], dtype = float)"
   ]
  },
  {
   "cell_type": "code",
   "execution_count": 9,
   "id": "9261d786",
   "metadata": {},
   "outputs": [
    {
     "data": {
      "text/plain": [
       "array([[ 2.5,  6. ,  8. ],\n",
       "       [ 8. ,  9. , 10. ]])"
      ]
     },
     "execution_count": 9,
     "metadata": {},
     "output_type": "execute_result"
    }
   ],
   "source": [
    "b"
   ]
  },
  {
   "cell_type": "code",
   "execution_count": 10,
   "id": "056b5da9",
   "metadata": {},
   "outputs": [
    {
     "data": {
      "text/plain": [
       "array([[0., 0., 0., 0., 0.],\n",
       "       [0., 0., 0., 0., 0.],\n",
       "       [0., 0., 0., 0., 0.],\n",
       "       [0., 0., 0., 0., 0.]])"
      ]
     },
     "execution_count": 10,
     "metadata": {},
     "output_type": "execute_result"
    }
   ],
   "source": [
    "np.zeros((4,5)) #Create an array of zeros"
   ]
  },
  {
   "cell_type": "code",
   "execution_count": 13,
   "id": "381cf635",
   "metadata": {},
   "outputs": [
    {
     "data": {
      "text/plain": [
       "array([[[1, 1, 1, 1],\n",
       "        [1, 1, 1, 1],\n",
       "        [1, 1, 1, 1],\n",
       "        [1, 1, 1, 1],\n",
       "        [1, 1, 1, 1]],\n",
       "\n",
       "       [[1, 1, 1, 1],\n",
       "        [1, 1, 1, 1],\n",
       "        [1, 1, 1, 1],\n",
       "        [1, 1, 1, 1],\n",
       "        [1, 1, 1, 1]]], dtype=int16)"
      ]
     },
     "execution_count": 13,
     "metadata": {},
     "output_type": "execute_result"
    }
   ],
   "source": [
    "np.ones((2,5,4),dtype=np.int16) #Create an array of ones"
   ]
  },
  {
   "cell_type": "code",
   "execution_count": 14,
   "id": "9d16fa5c",
   "metadata": {},
   "outputs": [],
   "source": [
    "z = np.arange(10,20,2) #Create an array of evenlyspaced values (step value)"
   ]
  },
  {
   "cell_type": "code",
   "execution_count": 15,
   "id": "eeef6ca6",
   "metadata": {},
   "outputs": [
    {
     "data": {
      "text/plain": [
       "array([10, 12, 14, 16, 18])"
      ]
     },
     "execution_count": 15,
     "metadata": {},
     "output_type": "execute_result"
    }
   ],
   "source": [
    "z"
   ]
  },
  {
   "cell_type": "code",
   "execution_count": 16,
   "id": "835ca9c7",
   "metadata": {},
   "outputs": [
    {
     "data": {
      "text/plain": [
       "array([1. , 1.5, 2. , 2.5, 3. ])"
      ]
     },
     "execution_count": 16,
     "metadata": {},
     "output_type": "execute_result"
    }
   ],
   "source": [
    "np.linspace(1,3,5) #Create an array of evenly spaced values (number of samples)"
   ]
  },
  {
   "cell_type": "code",
   "execution_count": 19,
   "id": "3921a056",
   "metadata": {},
   "outputs": [],
   "source": [
    " e = np.full((3,3),5) #Create a constant array"
   ]
  },
  {
   "cell_type": "code",
   "execution_count": 20,
   "id": "966aa316",
   "metadata": {},
   "outputs": [
    {
     "data": {
      "text/plain": [
       "array([[5, 5, 5],\n",
       "       [5, 5, 5],\n",
       "       [5, 5, 5]])"
      ]
     },
     "execution_count": 20,
     "metadata": {},
     "output_type": "execute_result"
    }
   ],
   "source": [
    "e"
   ]
  },
  {
   "cell_type": "code",
   "execution_count": 21,
   "id": "c1410dde",
   "metadata": {},
   "outputs": [],
   "source": [
    " f = np.eye(3) #Create a 3X3 identity matrix"
   ]
  },
  {
   "cell_type": "code",
   "execution_count": 22,
   "id": "5068cc50",
   "metadata": {},
   "outputs": [
    {
     "data": {
      "text/plain": [
       "array([[1., 0., 0.],\n",
       "       [0., 1., 0.],\n",
       "       [0., 0., 1.]])"
      ]
     },
     "execution_count": 22,
     "metadata": {},
     "output_type": "execute_result"
    }
   ],
   "source": [
    "f"
   ]
  },
  {
   "cell_type": "code",
   "execution_count": 23,
   "id": "d3e00438",
   "metadata": {},
   "outputs": [
    {
     "data": {
      "text/plain": [
       "array([[0.7864965 , 0.64168162, 0.79870527, 0.44885419],\n",
       "       [0.62646647, 0.20243737, 0.47666884, 0.90243637],\n",
       "       [0.65402897, 0.8735503 , 0.36457941, 0.35022959],\n",
       "       [0.35863998, 0.40275468, 0.27956043, 0.86312234]])"
      ]
     },
     "execution_count": 23,
     "metadata": {},
     "output_type": "execute_result"
    }
   ],
   "source": [
    " np.random.random((4,4)) #Create an array with random values"
   ]
  },
  {
   "cell_type": "code",
   "execution_count": 26,
   "id": "30bba181",
   "metadata": {},
   "outputs": [
    {
     "data": {
      "text/plain": [
       "array([[8.72698075e-312, 3.16202013e-322, 0.00000000e+000,\n",
       "        0.00000000e+000],\n",
       "       [1.13073288e+277, 4.50275525e-033, 2.57327245e+184,\n",
       "        4.50653155e-033],\n",
       "       [3.69535382e-057, 6.12484231e-062, 2.38546450e+180,\n",
       "        6.23493687e-038]])"
      ]
     },
     "execution_count": 26,
     "metadata": {},
     "output_type": "execute_result"
    }
   ],
   "source": [
    "np.empty((3,4)) #Create an empty array"
   ]
  },
  {
   "cell_type": "code",
   "execution_count": null,
   "id": "0656f53b",
   "metadata": {},
   "outputs": [],
   "source": []
  }
 ],
 "metadata": {
  "kernelspec": {
   "display_name": "Python 3 (ipykernel)",
   "language": "python",
   "name": "python3"
  },
  "language_info": {
   "codemirror_mode": {
    "name": "ipython",
    "version": 3
   },
   "file_extension": ".py",
   "mimetype": "text/x-python",
   "name": "python",
   "nbconvert_exporter": "python",
   "pygments_lexer": "ipython3",
   "version": "3.9.12"
  }
 },
 "nbformat": 4,
 "nbformat_minor": 5
}
